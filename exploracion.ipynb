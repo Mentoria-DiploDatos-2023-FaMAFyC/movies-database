{
 "cells": [
  {
   "attachments": {},
   "cell_type": "markdown",
   "metadata": {},
   "source": [
    "# Movies Dataset"
   ]
  },
  {
   "attachments": {},
   "cell_type": "markdown",
   "metadata": {},
   "source": [
    "## Preproceso"
   ]
  },
  {
   "attachments": {},
   "cell_type": "markdown",
   "metadata": {},
   "source": [
    "Algunas columnas del dataset vienen en json y hay que extraerle los valores para un mejor analisis. "
   ]
  },
  {
   "cell_type": "code",
   "execution_count": 1,
   "metadata": {},
   "outputs": [],
   "source": [
    "import pandas as pd\n",
    "from ast import literal_eval\n",
    "import matplotlib.pyplot as plt\n",
    "\n",
    "# Grid to true\n",
    "plt.rcParams['axes.grid'] = True"
   ]
  },
  {
   "attachments": {},
   "cell_type": "markdown",
   "metadata": {},
   "source": [
    "Las columnas ['genres', 'production_companies', 'production_countries', 'spoken_languages'] son una lista de objetos json, y la columna 'belongs_to_collection' es un objeto json. El campo 'name' es el que nos interesa en todos los casos, por eso los metodos de extraccion se encargan de extraer ese solo. "
   ]
  },
  {
   "cell_type": "code",
   "execution_count": 2,
   "metadata": {},
   "outputs": [
    {
     "name": "stderr",
     "output_type": "stream",
     "text": [
      "C:\\Users\\Lucho\\AppData\\Local\\Temp\\ipykernel_12200\\1033243750.py:1: DtypeWarning: Columns (10) have mixed types. Specify dtype option on import or set low_memory=False.\n",
      "  df = pd.read_csv('movies_metadata.csv')\n"
     ]
    }
   ],
   "source": [
    "\n",
    "df = pd.read_csv('movies_metadata.csv')\n",
    "for col in ['genres',\n",
    "            'production_companies',\n",
    "            'production_countries',\n",
    "            'spoken_languages']:\n",
    "    \n",
    "    # Accede a todos los dicts de cada lista y guarda el campo 'name' en la lista a retornar\n",
    "    df[col] = df[col].fillna('[]').apply(literal_eval).apply(\n",
    "        lambda x: [i['name'] for i in x] if isinstance(x, list) else [])\n",
    "\n",
    "# Extrae el campo 'name' de cada dict en la columna\n",
    "df['belongs_to_collection'] = df['belongs_to_collection'].fillna(\n",
    "    'None').apply(literal_eval).apply(lambda x: x['name'] if isinstance(x, dict) else None)"
   ]
  },
  {
   "attachments": {},
   "cell_type": "markdown",
   "metadata": {},
   "source": [
    "## Exploración"
   ]
  },
  {
   "cell_type": "code",
   "execution_count": 3,
   "metadata": {},
   "outputs": [
    {
     "name": "stdout",
     "output_type": "stream",
     "text": [
      "<class 'pandas.core.frame.DataFrame'>\n",
      "RangeIndex: 45466 entries, 0 to 45465\n",
      "Data columns (total 24 columns):\n",
      " #   Column                 Non-Null Count  Dtype  \n",
      "---  ------                 --------------  -----  \n",
      " 0   adult                  45466 non-null  object \n",
      " 1   belongs_to_collection  4491 non-null   object \n",
      " 2   budget                 45466 non-null  object \n",
      " 3   genres                 45466 non-null  object \n",
      " 4   homepage               7782 non-null   object \n",
      " 5   id                     45466 non-null  object \n",
      " 6   imdb_id                45449 non-null  object \n",
      " 7   original_language      45455 non-null  object \n",
      " 8   original_title         45466 non-null  object \n",
      " 9   overview               44512 non-null  object \n",
      " 10  popularity             45461 non-null  object \n",
      " 11  poster_path            45080 non-null  object \n",
      " 12  production_companies   45466 non-null  object \n",
      " 13  production_countries   45466 non-null  object \n",
      " 14  release_date           45379 non-null  object \n",
      " 15  revenue                45460 non-null  float64\n",
      " 16  runtime                45203 non-null  float64\n",
      " 17  spoken_languages       45466 non-null  object \n",
      " 18  status                 45379 non-null  object \n",
      " 19  tagline                20412 non-null  object \n",
      " 20  title                  45460 non-null  object \n",
      " 21  video                  45460 non-null  object \n",
      " 22  vote_average           45460 non-null  float64\n",
      " 23  vote_count             45460 non-null  float64\n",
      "dtypes: float64(4), object(20)\n",
      "memory usage: 8.3+ MB\n"
     ]
    }
   ],
   "source": [
    "df.info()"
   ]
  },
  {
   "cell_type": "code",
   "execution_count": 4,
   "metadata": {},
   "outputs": [
    {
     "data": {
      "text/html": [
       "<div>\n",
       "<style scoped>\n",
       "    .dataframe tbody tr th:only-of-type {\n",
       "        vertical-align: middle;\n",
       "    }\n",
       "\n",
       "    .dataframe tbody tr th {\n",
       "        vertical-align: top;\n",
       "    }\n",
       "\n",
       "    .dataframe thead th {\n",
       "        text-align: right;\n",
       "    }\n",
       "</style>\n",
       "<table border=\"1\" class=\"dataframe\">\n",
       "  <thead>\n",
       "    <tr style=\"text-align: right;\">\n",
       "      <th></th>\n",
       "      <th>12241</th>\n",
       "      <th>12778</th>\n",
       "      <th>12476</th>\n",
       "      <th>42012</th>\n",
       "      <th>22198</th>\n",
       "    </tr>\n",
       "  </thead>\n",
       "  <tbody>\n",
       "    <tr>\n",
       "      <th>adult</th>\n",
       "      <td>False</td>\n",
       "      <td>False</td>\n",
       "      <td>False</td>\n",
       "      <td>False</td>\n",
       "      <td>False</td>\n",
       "    </tr>\n",
       "    <tr>\n",
       "      <th>belongs_to_collection</th>\n",
       "      <td>None</td>\n",
       "      <td>Simon Brenner Collection</td>\n",
       "      <td>None</td>\n",
       "      <td>None</td>\n",
       "      <td>None</td>\n",
       "    </tr>\n",
       "    <tr>\n",
       "      <th>budget</th>\n",
       "      <td>7800000</td>\n",
       "      <td>0</td>\n",
       "      <td>0</td>\n",
       "      <td>0</td>\n",
       "      <td>0</td>\n",
       "    </tr>\n",
       "    <tr>\n",
       "      <th>genres</th>\n",
       "      <td>[Drama]</td>\n",
       "      <td>[Comedy, Crime, Thriller]</td>\n",
       "      <td>[Comedy, Music, Romance]</td>\n",
       "      <td>[Thriller, Horror]</td>\n",
       "      <td>[TV Movie, Drama, Romance, Western]</td>\n",
       "    </tr>\n",
       "    <tr>\n",
       "      <th>homepage</th>\n",
       "      <td>NaN</td>\n",
       "      <td>NaN</td>\n",
       "      <td>NaN</td>\n",
       "      <td>NaN</td>\n",
       "      <td>NaN</td>\n",
       "    </tr>\n",
       "    <tr>\n",
       "      <th>id</th>\n",
       "      <td>25460</td>\n",
       "      <td>9010</td>\n",
       "      <td>43797</td>\n",
       "      <td>363689</td>\n",
       "      <td>26131</td>\n",
       "    </tr>\n",
       "    <tr>\n",
       "      <th>imdb_id</th>\n",
       "      <td>tt0396190</td>\n",
       "      <td>tt0386038</td>\n",
       "      <td>tt0034241</td>\n",
       "      <td>tt4229298</td>\n",
       "      <td>tt0340380</td>\n",
       "    </tr>\n",
       "    <tr>\n",
       "      <th>original_language</th>\n",
       "      <td>en</td>\n",
       "      <td>de</td>\n",
       "      <td>en</td>\n",
       "      <td>en</td>\n",
       "      <td>en</td>\n",
       "    </tr>\n",
       "    <tr>\n",
       "      <th>original_title</th>\n",
       "      <td>Return to Sender</td>\n",
       "      <td>Silentium</td>\n",
       "      <td>Sun Valley Serenade</td>\n",
       "      <td>The Unspoken</td>\n",
       "      <td>Straight From the Heart</td>\n",
       "    </tr>\n",
       "    <tr>\n",
       "      <th>overview</th>\n",
       "      <td>While fighting for a woman who sits on death r...</td>\n",
       "      <td>Silentium is a 2004 Austrian film based on a n...</td>\n",
       "      <td>Skating star Sonja Henie and the Glenn Miller ...</td>\n",
       "      <td>In 1997 the close-knit Anderson family vanishe...</td>\n",
       "      <td>Jordan Donavan, a photographer in New York, is...</td>\n",
       "    </tr>\n",
       "    <tr>\n",
       "      <th>popularity</th>\n",
       "      <td>2.463468</td>\n",
       "      <td>1.748713</td>\n",
       "      <td>0.77811</td>\n",
       "      <td>1.965783</td>\n",
       "      <td>0.480985</td>\n",
       "    </tr>\n",
       "    <tr>\n",
       "      <th>poster_path</th>\n",
       "      <td>/ohau02T7JZeYFiW9gLHE9UmaG71.jpg</td>\n",
       "      <td>/m8F9mHc90o9TcGlU0gD0wXAJVX9.jpg</td>\n",
       "      <td>/vMMrecFRLIomyRI9dWxhgjfyicI.jpg</td>\n",
       "      <td>/hhWc7BDr5FdrZAgoDnCIz5MFts.jpg</td>\n",
       "      <td>/cQ7mXlU8sR1ch2AJjFbvEARhRSF.jpg</td>\n",
       "    </tr>\n",
       "    <tr>\n",
       "      <th>production_companies</th>\n",
       "      <td>[Audley Films LLP, Moviefan Scandinavia A/S, N...</td>\n",
       "      <td>[Dor Film Produktionsgesellschaft GmbH]</td>\n",
       "      <td>[Twentieth Century Fox Film Corporation]</td>\n",
       "      <td>[Lighthouse Pictures, Sapphire Fire Limited]</td>\n",
       "      <td>[]</td>\n",
       "    </tr>\n",
       "    <tr>\n",
       "      <th>production_countries</th>\n",
       "      <td>[Denmark, United Kingdom, United States of Ame...</td>\n",
       "      <td>[Austria]</td>\n",
       "      <td>[United States of America]</td>\n",
       "      <td>[Canada]</td>\n",
       "      <td>[]</td>\n",
       "    </tr>\n",
       "    <tr>\n",
       "      <th>release_date</th>\n",
       "      <td>2004-09-17</td>\n",
       "      <td>2004-01-01</td>\n",
       "      <td>1941-08-29</td>\n",
       "      <td>2015-10-24</td>\n",
       "      <td>2003-02-09</td>\n",
       "    </tr>\n",
       "    <tr>\n",
       "      <th>revenue</th>\n",
       "      <td>0.0</td>\n",
       "      <td>0.0</td>\n",
       "      <td>0.0</td>\n",
       "      <td>0.0</td>\n",
       "      <td>0.0</td>\n",
       "    </tr>\n",
       "    <tr>\n",
       "      <th>runtime</th>\n",
       "      <td>109.0</td>\n",
       "      <td>110.0</td>\n",
       "      <td>86.0</td>\n",
       "      <td>90.0</td>\n",
       "      <td>100.0</td>\n",
       "    </tr>\n",
       "    <tr>\n",
       "      <th>spoken_languages</th>\n",
       "      <td>[English]</td>\n",
       "      <td>[Deutsch]</td>\n",
       "      <td>[English]</td>\n",
       "      <td>[English]</td>\n",
       "      <td>[]</td>\n",
       "    </tr>\n",
       "    <tr>\n",
       "      <th>status</th>\n",
       "      <td>Released</td>\n",
       "      <td>Released</td>\n",
       "      <td>Released</td>\n",
       "      <td>Released</td>\n",
       "      <td>Released</td>\n",
       "    </tr>\n",
       "    <tr>\n",
       "      <th>tagline</th>\n",
       "      <td>How can you save someone, who won't save herself?</td>\n",
       "      <td>NaN</td>\n",
       "      <td>ONE OF YOUR ALL-TIME MUSICAL HIGHS!</td>\n",
       "      <td>NaN</td>\n",
       "      <td>NaN</td>\n",
       "    </tr>\n",
       "    <tr>\n",
       "      <th>title</th>\n",
       "      <td>Return to Sender</td>\n",
       "      <td>Silentium</td>\n",
       "      <td>Sun Valley Serenade</td>\n",
       "      <td>The Unspoken</td>\n",
       "      <td>Straight From the Heart</td>\n",
       "    </tr>\n",
       "    <tr>\n",
       "      <th>video</th>\n",
       "      <td>False</td>\n",
       "      <td>False</td>\n",
       "      <td>False</td>\n",
       "      <td>False</td>\n",
       "      <td>False</td>\n",
       "    </tr>\n",
       "    <tr>\n",
       "      <th>vote_average</th>\n",
       "      <td>5.9</td>\n",
       "      <td>7.2</td>\n",
       "      <td>6.0</td>\n",
       "      <td>4.5</td>\n",
       "      <td>5.0</td>\n",
       "    </tr>\n",
       "    <tr>\n",
       "      <th>vote_count</th>\n",
       "      <td>13.0</td>\n",
       "      <td>22.0</td>\n",
       "      <td>3.0</td>\n",
       "      <td>20.0</td>\n",
       "      <td>5.0</td>\n",
       "    </tr>\n",
       "  </tbody>\n",
       "</table>\n",
       "</div>"
      ],
      "text/plain": [
       "                                                                   12241  \\\n",
       "adult                                                              False   \n",
       "belongs_to_collection                                               None   \n",
       "budget                                                           7800000   \n",
       "genres                                                           [Drama]   \n",
       "homepage                                                             NaN   \n",
       "id                                                                 25460   \n",
       "imdb_id                                                        tt0396190   \n",
       "original_language                                                     en   \n",
       "original_title                                          Return to Sender   \n",
       "overview               While fighting for a woman who sits on death r...   \n",
       "popularity                                                      2.463468   \n",
       "poster_path                             /ohau02T7JZeYFiW9gLHE9UmaG71.jpg   \n",
       "production_companies   [Audley Films LLP, Moviefan Scandinavia A/S, N...   \n",
       "production_countries   [Denmark, United Kingdom, United States of Ame...   \n",
       "release_date                                                  2004-09-17   \n",
       "revenue                                                              0.0   \n",
       "runtime                                                            109.0   \n",
       "spoken_languages                                               [English]   \n",
       "status                                                          Released   \n",
       "tagline                How can you save someone, who won't save herself?   \n",
       "title                                                   Return to Sender   \n",
       "video                                                              False   \n",
       "vote_average                                                         5.9   \n",
       "vote_count                                                          13.0   \n",
       "\n",
       "                                                                   12778  \\\n",
       "adult                                                              False   \n",
       "belongs_to_collection                           Simon Brenner Collection   \n",
       "budget                                                                 0   \n",
       "genres                                         [Comedy, Crime, Thriller]   \n",
       "homepage                                                             NaN   \n",
       "id                                                                  9010   \n",
       "imdb_id                                                        tt0386038   \n",
       "original_language                                                     de   \n",
       "original_title                                                 Silentium   \n",
       "overview               Silentium is a 2004 Austrian film based on a n...   \n",
       "popularity                                                      1.748713   \n",
       "poster_path                             /m8F9mHc90o9TcGlU0gD0wXAJVX9.jpg   \n",
       "production_companies             [Dor Film Produktionsgesellschaft GmbH]   \n",
       "production_countries                                           [Austria]   \n",
       "release_date                                                  2004-01-01   \n",
       "revenue                                                              0.0   \n",
       "runtime                                                            110.0   \n",
       "spoken_languages                                               [Deutsch]   \n",
       "status                                                          Released   \n",
       "tagline                                                              NaN   \n",
       "title                                                          Silentium   \n",
       "video                                                              False   \n",
       "vote_average                                                         7.2   \n",
       "vote_count                                                          22.0   \n",
       "\n",
       "                                                                   12476  \\\n",
       "adult                                                              False   \n",
       "belongs_to_collection                                               None   \n",
       "budget                                                                 0   \n",
       "genres                                          [Comedy, Music, Romance]   \n",
       "homepage                                                             NaN   \n",
       "id                                                                 43797   \n",
       "imdb_id                                                        tt0034241   \n",
       "original_language                                                     en   \n",
       "original_title                                       Sun Valley Serenade   \n",
       "overview               Skating star Sonja Henie and the Glenn Miller ...   \n",
       "popularity                                                       0.77811   \n",
       "poster_path                             /vMMrecFRLIomyRI9dWxhgjfyicI.jpg   \n",
       "production_companies            [Twentieth Century Fox Film Corporation]   \n",
       "production_countries                          [United States of America]   \n",
       "release_date                                                  1941-08-29   \n",
       "revenue                                                              0.0   \n",
       "runtime                                                             86.0   \n",
       "spoken_languages                                               [English]   \n",
       "status                                                          Released   \n",
       "tagline                              ONE OF YOUR ALL-TIME MUSICAL HIGHS!   \n",
       "title                                                Sun Valley Serenade   \n",
       "video                                                              False   \n",
       "vote_average                                                         6.0   \n",
       "vote_count                                                           3.0   \n",
       "\n",
       "                                                                   42012  \\\n",
       "adult                                                              False   \n",
       "belongs_to_collection                                               None   \n",
       "budget                                                                 0   \n",
       "genres                                                [Thriller, Horror]   \n",
       "homepage                                                             NaN   \n",
       "id                                                                363689   \n",
       "imdb_id                                                        tt4229298   \n",
       "original_language                                                     en   \n",
       "original_title                                              The Unspoken   \n",
       "overview               In 1997 the close-knit Anderson family vanishe...   \n",
       "popularity                                                      1.965783   \n",
       "poster_path                              /hhWc7BDr5FdrZAgoDnCIz5MFts.jpg   \n",
       "production_companies        [Lighthouse Pictures, Sapphire Fire Limited]   \n",
       "production_countries                                            [Canada]   \n",
       "release_date                                                  2015-10-24   \n",
       "revenue                                                              0.0   \n",
       "runtime                                                             90.0   \n",
       "spoken_languages                                               [English]   \n",
       "status                                                          Released   \n",
       "tagline                                                              NaN   \n",
       "title                                                       The Unspoken   \n",
       "video                                                              False   \n",
       "vote_average                                                         4.5   \n",
       "vote_count                                                          20.0   \n",
       "\n",
       "                                                                   22198  \n",
       "adult                                                              False  \n",
       "belongs_to_collection                                               None  \n",
       "budget                                                                 0  \n",
       "genres                               [TV Movie, Drama, Romance, Western]  \n",
       "homepage                                                             NaN  \n",
       "id                                                                 26131  \n",
       "imdb_id                                                        tt0340380  \n",
       "original_language                                                     en  \n",
       "original_title                                   Straight From the Heart  \n",
       "overview               Jordan Donavan, a photographer in New York, is...  \n",
       "popularity                                                      0.480985  \n",
       "poster_path                             /cQ7mXlU8sR1ch2AJjFbvEARhRSF.jpg  \n",
       "production_companies                                                  []  \n",
       "production_countries                                                  []  \n",
       "release_date                                                  2003-02-09  \n",
       "revenue                                                              0.0  \n",
       "runtime                                                            100.0  \n",
       "spoken_languages                                                      []  \n",
       "status                                                          Released  \n",
       "tagline                                                              NaN  \n",
       "title                                            Straight From the Heart  \n",
       "video                                                              False  \n",
       "vote_average                                                         5.0  \n",
       "vote_count                                                           5.0  "
      ]
     },
     "execution_count": 4,
     "metadata": {},
     "output_type": "execute_result"
    }
   ],
   "source": [
    "df.sample(5).transpose()"
   ]
  },
  {
   "cell_type": "code",
   "execution_count": 5,
   "metadata": {},
   "outputs": [
    {
     "data": {
      "text/plain": [
       "0        None\n",
       "1        None\n",
       "2        None\n",
       "3        None\n",
       "4        None\n",
       "         ... \n",
       "45461    None\n",
       "45462    None\n",
       "45463    None\n",
       "45464    None\n",
       "45465    None\n",
       "Name: genres, Length: 45466, dtype: object"
      ]
     },
     "execution_count": 5,
     "metadata": {},
     "output_type": "execute_result"
    }
   ],
   "source": [
    "# Crear un set con todos los géneros\n",
    "genre_set = set()\n",
    "df['genres'].apply(lambda x: genre_set.update(x))"
   ]
  },
  {
   "cell_type": "code",
   "execution_count": 6,
   "metadata": {},
   "outputs": [
    {
     "data": {
      "text/plain": [
       "Drama                                    20265\n",
       "Comedy                                   13182\n",
       "Thriller                                  7624\n",
       "Romance                                   6735\n",
       "Action                                    6596\n",
       "Horror                                    4673\n",
       "Crime                                     4307\n",
       "Documentary                               3932\n",
       "Adventure                                 3496\n",
       "Science Fiction                           3049\n",
       "Family                                    2770\n",
       "Mystery                                   2467\n",
       "Fantasy                                   2313\n",
       "Animation                                 1935\n",
       "Foreign                                   1622\n",
       "Music                                     1598\n",
       "History                                   1398\n",
       "War                                       1323\n",
       "Western                                   1042\n",
       "TV Movie                                   767\n",
       "Carousel Productions                         1\n",
       "Telescene Film Group Productions             1\n",
       "Sentai Filmworks                             1\n",
       "BROSTA TV                                    1\n",
       "GoHands                                      1\n",
       "Rogue State                                  1\n",
       "Mardock Scramble Production Committee        1\n",
       "The Cartel                                   1\n",
       "Pulser Productions                           1\n",
       "Vision View Entertainment                    1\n",
       "Aniplex                                      1\n",
       "Odyssey Media                                1\n",
       "dtype: int64"
      ]
     },
     "execution_count": 6,
     "metadata": {},
     "output_type": "execute_result"
    }
   ],
   "source": [
    "# generos ordenados por cantidad de peliculas\n",
    "genre_count = {}\n",
    "for genre in genre_set:\n",
    "    genre_count[genre] = df['genres'].apply(lambda x: genre in x).sum()\n",
    "\n",
    "genre_count = pd.Series(genre_count).sort_values(ascending=False)\n",
    "genre_count"
   ]
  },
  {
   "cell_type": "code",
   "execution_count": 7,
   "metadata": {},
   "outputs": [
    {
     "data": {
      "text/plain": [
       "count    4.546600e+04\n",
       "mean     4.224300e+06\n",
       "std      1.742359e+07\n",
       "min      0.000000e+00\n",
       "25%      0.000000e+00\n",
       "50%      0.000000e+00\n",
       "75%      0.000000e+00\n",
       "max      3.800000e+08\n",
       "Name: budget, dtype: float64"
      ]
     },
     "execution_count": 7,
     "metadata": {},
     "output_type": "execute_result"
    }
   ],
   "source": [
    "df['budget'] = pd.to_numeric(df['budget'], errors='coerce')\n",
    "df['budget'].fillna(0, inplace=True)\n",
    "df['budget'] = df['budget'].astype('int64')\n",
    "df['budget'].describe()\n"
   ]
  },
  {
   "cell_type": "code",
   "execution_count": 8,
   "metadata": {},
   "outputs": [],
   "source": [
    "# Create copy\n",
    "df2 = df.copy()\n",
    "\n",
    "# Filter outliers for budget\n",
    "df = df[(df['budget'] > 1000) & (df['budget'] < 1000000)]"
   ]
  },
  {
   "cell_type": "code",
   "execution_count": 9,
   "metadata": {},
   "outputs": [
    {
     "data": {
      "text/plain": [
       "<matplotlib.legend.Legend at 0x1ed7870beb0>"
      ]
     },
     "execution_count": 9,
     "metadata": {},
     "output_type": "execute_result"
    },
    {
     "data": {
      "image/png": "[encoded data removed]",
      "text/plain": [
       "<Figure size 1008x720 with 1 Axes>"
      ]
     },
     "metadata": {
      "needs_background": "light"
     },
     "output_type": "display_data"
    }
   ],
   "source": [
    "# histograma para comparar los presupuestos de las peliculas de drama, ciencia ficcion, accion y comedia\n",
    "fig, ax = plt.subplots(figsize=(14, 10))\n",
    "for genre in ['Drama', 'Science Fiction', 'Action', 'Comedy']:\n",
    "    df[df['genres'].apply(lambda x: genre in x)]['budget'].hist(\n",
    "        bins=100, alpha=0.5, label=genre, ax=ax)\n",
    "ax.legend()"
   ]
  },
  {
   "cell_type": "code",
   "execution_count": 10,
   "metadata": {},
   "outputs": [
    {
     "data": {
      "image/png": "[encoded data removed]",
      "text/plain": [
       "<Figure size 1080x576 with 4 Axes>"
      ]
     },
     "metadata": {
      "needs_background": "light"
     },
     "output_type": "display_data"
    }
   ],
   "source": [
    "# boxplots para los presupuestos de las peliculas de drama, ciencia ficcion, accion y comedia\n",
    "fig, axes = plt.subplots(1, 4, figsize=(15, 8))\n",
    "for i, genre in enumerate(['Drama', 'Science Fiction', 'Action', 'Comedy']):\n",
    "    df[df['genres'].apply(lambda x: genre in x)]['budget'].plot(\n",
    "        kind='box', ax=axes[i], title=genre)\n",
    "    axes[i].set_ylim(0, 1100000)\n"
   ]
  },
  {
   "attachments": {},
   "cell_type": "markdown",
   "metadata": {},
   "source": [
    "### Comparacion de los presupuestos para las peliculas de Drama, Ciencia Ficcion, Accion y Comedia que costaron menos de 1000000\n",
    "- El histograma nos indica que muchas peliculas coinciden en el numero de presupuesto. Esto puede ser debido a redondeos al momento de realizar la carga de datos. \n",
    "- Los graficos de cajas nos indican que existen algunas diferencias, sobretodo en los limites superiores, de los gastos de las peliculas para estos generos. \n",
    "    - Las peliculas de drama suelen ser las que mas presupuesto requieren.\n",
    "    - Las peliculas de ciencia ficcion y accion, menos presupuesto. Esto no es lo esperado ya que ciencia ficcion y accion suelen requerir de efectos especiales y CGI, lo cual no es barato. Es posible que las peliculas de estos generos, que son de bajo presupuesto, hayan gastado menos que otras de drama donde el presupuesto necesario sea menor.\n",
    "    - Las peliculas de comedia superan en presupuesto a Accion y Ciencia Ficcion, pero sin estar por encima de las peliculas de Drama. "
   ]
  },
  {
   "cell_type": "code",
   "execution_count": 11,
   "metadata": {},
   "outputs": [],
   "source": [
    "# Restaurar el dataframe original\n",
    "df = df2.copy()"
   ]
  },
  {
   "attachments": {},
   "cell_type": "markdown",
   "metadata": {},
   "source": [
    "## Casos testigo: Avatar, The Godfather, Lord of the Rings"
   ]
  },
  {
   "cell_type": "code",
   "execution_count": 12,
   "metadata": {},
   "outputs": [],
   "source": [
    "# Transformar columna de popularidad a numerica\n",
    "df['popularity'] = pd.to_numeric(df['popularity'], errors='coerce')"
   ]
  },
  {
   "cell_type": "code",
   "execution_count": 13,
   "metadata": {},
   "outputs": [
    {
     "data": {
      "text/plain": [
       "<matplotlib.legend.Legend at 0x1ed733e0580>"
      ]
     },
     "execution_count": 13,
     "metadata": {},
     "output_type": "execute_result"
    },
    {
     "data": {
      "image/png": "[encoded data removed]",
      "text/plain": [
       "<Figure size 1008x720 with 1 Axes>"
      ]
     },
     "metadata": {
      "needs_background": "light"
     },
     "output_type": "display_data"
    }
   ],
   "source": [
    "# Scatterplot entre presupuesto y popularidad.\n",
    "fig, ax = plt.subplots(figsize=(14, 10))\n",
    "ax.scatter(df['budget'], df['popularity'], alpha=0.5)\n",
    "\n",
    "ax.scatter(df[df['original_title'] == 'Avatar']['budget'],\n",
    "              df[df['original_title'] == 'Avatar']['popularity'], s=100, c='red', label='Avatar')\n",
    "ax.scatter(df[df['original_title'] == 'The Godfather']['budget'],\n",
    "                df[df['original_title'] == 'The Godfather']['popularity'], s=100, c='yellow', label='The Godfather')\n",
    "ax.scatter(df[df['original_title'] == 'Forrest Gump']['budget'],\n",
    "                df[df['original_title'] == 'Forrest Gump']['popularity'], s=100, c='purple', label='Forrest Gump')\n",
    "ax.legend()\n"
   ]
  },
  {
   "cell_type": "code",
   "execution_count": 14,
   "metadata": {},
   "outputs": [
    {
     "data": {
      "text/html": [
       "<div>\n",
       "<style scoped>\n",
       "    .dataframe tbody tr th:only-of-type {\n",
       "        vertical-align: middle;\n",
       "    }\n",
       "\n",
       "    .dataframe tbody tr th {\n",
       "        vertical-align: top;\n",
       "    }\n",
       "\n",
       "    .dataframe thead th {\n",
       "        text-align: right;\n",
       "    }\n",
       "</style>\n",
       "<table border=\"1\" class=\"dataframe\">\n",
       "  <thead>\n",
       "    <tr style=\"text-align: right;\">\n",
       "      <th></th>\n",
       "      <th>original_title</th>\n",
       "      <th>production_companies</th>\n",
       "    </tr>\n",
       "  </thead>\n",
       "  <tbody>\n",
       "    <tr>\n",
       "      <th>27</th>\n",
       "      <td>Persuasion</td>\n",
       "      <td>[BBC Films]</td>\n",
       "    </tr>\n",
       "    <tr>\n",
       "      <th>97</th>\n",
       "      <td>Heidi Fleiss: Hollywood Madam</td>\n",
       "      <td>[British Broadcasting Corporation (BBC), Westd...</td>\n",
       "    </tr>\n",
       "    <tr>\n",
       "      <th>145</th>\n",
       "      <td>An Awfully Big Adventure</td>\n",
       "      <td>[Fine Line Features, BBC, British Screen Produ...</td>\n",
       "    </tr>\n",
       "    <tr>\n",
       "      <th>295</th>\n",
       "      <td>Priest</td>\n",
       "      <td>[BBC Films, PolyGram Filmed Entertainment, Mir...</td>\n",
       "    </tr>\n",
       "    <tr>\n",
       "      <th>380</th>\n",
       "      <td>A Man of No Importance</td>\n",
       "      <td>[BBC Films, Majestic Films International, Litt...</td>\n",
       "    </tr>\n",
       "    <tr>\n",
       "      <th>...</th>\n",
       "      <td>...</td>\n",
       "      <td>...</td>\n",
       "    </tr>\n",
       "    <tr>\n",
       "      <th>44335</th>\n",
       "      <td>Red Nose Day Actually</td>\n",
       "      <td>[BBC Films, NBC Productions, Portobello Studios]</td>\n",
       "    </tr>\n",
       "    <tr>\n",
       "      <th>44533</th>\n",
       "      <td>Das Versprechen</td>\n",
       "      <td>[Danmarks Radio (DR), SVT, British Broadcastin...</td>\n",
       "    </tr>\n",
       "    <tr>\n",
       "      <th>44542</th>\n",
       "      <td>Macbeth</td>\n",
       "      <td>[PBS, BBC, Gravitas Ventures]</td>\n",
       "    </tr>\n",
       "    <tr>\n",
       "      <th>44733</th>\n",
       "      <td>Heavy Metal Britannia</td>\n",
       "      <td>[BBC]</td>\n",
       "    </tr>\n",
       "    <tr>\n",
       "      <th>45286</th>\n",
       "      <td>Gideon's Daughter</td>\n",
       "      <td>[British Broadcasting Corporation (BBC), Talkb...</td>\n",
       "    </tr>\n",
       "  </tbody>\n",
       "</table>\n",
       "<p>350 rows × 2 columns</p>\n",
       "</div>"
      ],
      "text/plain": [
       "                      original_title  \\\n",
       "27                        Persuasion   \n",
       "97     Heidi Fleiss: Hollywood Madam   \n",
       "145         An Awfully Big Adventure   \n",
       "295                           Priest   \n",
       "380           A Man of No Importance   \n",
       "...                              ...   \n",
       "44335          Red Nose Day Actually   \n",
       "44533                Das Versprechen   \n",
       "44542                        Macbeth   \n",
       "44733          Heavy Metal Britannia   \n",
       "45286              Gideon's Daughter   \n",
       "\n",
       "                                    production_companies  \n",
       "27                                           [BBC Films]  \n",
       "97     [British Broadcasting Corporation (BBC), Westd...  \n",
       "145    [Fine Line Features, BBC, British Screen Produ...  \n",
       "295    [BBC Films, PolyGram Filmed Entertainment, Mir...  \n",
       "380    [BBC Films, Majestic Films International, Litt...  \n",
       "...                                                  ...  \n",
       "44335   [BBC Films, NBC Productions, Portobello Studios]  \n",
       "44533  [Danmarks Radio (DR), SVT, British Broadcastin...  \n",
       "44542                      [PBS, BBC, Gravitas Ventures]  \n",
       "44733                                              [BBC]  \n",
       "45286  [British Broadcasting Corporation (BBC), Talkb...  \n",
       "\n",
       "[350 rows x 2 columns]"
      ]
     },
     "execution_count": 14,
     "metadata": {},
     "output_type": "execute_result"
    }
   ],
   "source": [
    "# Analizar peliculas donde la production company tenga 'BBC' en el nombre\n",
    "df[df['production_companies'].apply(lambda x: 'BBC' in str(x))][['original_title', 'production_companies']]"
   ]
  },
  {
   "attachments": {},
   "cell_type": "markdown",
   "metadata": {},
   "source": [
    "### Peliculas producidas por la BBC"
   ]
  },
  {
   "cell_type": "code",
   "execution_count": 15,
   "metadata": {},
   "outputs": [
    {
     "data": {
      "text/plain": [
       "count    3.500000e+02\n",
       "mean     3.750200e+06\n",
       "std      1.348718e+07\n",
       "min      0.000000e+00\n",
       "25%      0.000000e+00\n",
       "50%      0.000000e+00\n",
       "75%      0.000000e+00\n",
       "max      1.150000e+08\n",
       "Name: budget, dtype: float64"
      ]
     },
     "execution_count": 15,
     "metadata": {},
     "output_type": "execute_result"
    }
   ],
   "source": [
    "# Presupuesto para peliculas de la BBC\n",
    "df[df['production_companies'].apply(lambda x: 'BBC' in str(x))]['budget'].describe()"
   ]
  },
  {
   "cell_type": "code",
   "execution_count": 19,
   "metadata": {},
   "outputs": [
    {
     "data": {
      "text/plain": [
       "<matplotlib.legend.Legend at 0x1ed733e3340>"
      ]
     },
     "execution_count": 19,
     "metadata": {},
     "output_type": "execute_result"
    },
    {
     "data": {
      "image/png": "[encoded data removed]",
      "text/plain": [
       "<Figure size 1008x720 with 1 Axes>"
      ]
     },
     "metadata": {
      "needs_background": "light"
     },
     "output_type": "display_data"
    }
   ],
   "source": [
    "# Scatterplot entre presupuesto y popularidad para peliculas de la BBC y peliculas que no son de la BBC\n",
    "fig, ax = plt.subplots(figsize=(14, 10))\n",
    "ax.scatter(df[~df['production_companies'].apply(lambda x: 'BBC' in str(x))]['budget'],\n",
    "                df[~df['production_companies'].apply(lambda x: 'BBC' in str(x))]['popularity'], alpha=0.5, label='Not BBC')\n",
    "ax.scatter(df[df['production_companies'].apply(lambda x: 'BBC' in str(x))]['budget'],\n",
    "              df[df['production_companies'].apply(lambda x: 'BBC' in str(x))]['popularity'], label='BBC', c='red')\n",
    "ax.legend()\n"
   ]
  },
  {
   "cell_type": "code",
   "execution_count": null,
   "metadata": {},
   "outputs": [],
   "source": []
  }
 ],
 "metadata": {
  "kernelspec": {
   "display_name": "datascience",
   "language": "python",
   "name": "python3"
  },
  "language_info": {
   "codemirror_mode": {
    "name": "ipython",
    "version": 3
   },
   "file_extension": ".py",
   "mimetype": "text/x-python",
   "name": "python",
   "nbconvert_exporter": "python",
   "pygments_lexer": "ipython3",
   "version": "3.10.5"
  },
  "orig_nbformat": 4
 },
 "nbformat": 4,
 "nbformat_minor": 2
}
